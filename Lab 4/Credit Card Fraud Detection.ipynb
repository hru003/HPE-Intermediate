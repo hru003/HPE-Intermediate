{
 "cells": [
  {
   "cell_type": "code",
   "execution_count": 20,
   "id": "9a0cbd92",
   "metadata": {},
   "outputs": [],
   "source": [
    "#!pip install seaborn\n",
    "# Load the packages needed for this part\n",
    "# create spark and sparkcontext objects\n",
    "from pyspark.sql import SparkSession\n",
    "import numpy as np\n",
    "\n",
    "#spark = SparkSession.builder.config('','4g').getOrCreate()\n",
    "spark = SparkSession.builder.config('spark.driver.memory','4g').getOrCreate()\n",
    "\n",
    "sc = spark.sparkContext\n",
    "\n",
    "import pyspark\n",
    "from pyspark.ml import feature, regression, Pipeline\n",
    "from pyspark.sql import functions as func, Row\n",
    "from pyspark import sql\n",
    "\n",
    "from pyspark.sql.functions import *\n",
    "from pyspark.sql.types import IntegerType, DoubleType, FloatType\n",
    "\n",
    "import matplotlib.pyplot as plt\n",
    "import pandas as pd\n",
    "import seaborn as sns"
   ]
  },
  {
   "cell_type": "code",
   "execution_count": 21,
   "id": "29c83f65",
   "metadata": {},
   "outputs": [],
   "source": [
    "train_df = spark.read.csv('fraudTrain.csv', header=True, inferSchema=True)\n",
    "test_df = spark.read.csv('fraudTest.csv', header=True, inferSchema=True)"
   ]
  },
  {
   "cell_type": "code",
   "execution_count": 22,
   "id": "4e54c941",
   "metadata": {},
   "outputs": [
    {
     "name": "stdout",
     "output_type": "stream",
     "text": [
      "root\n",
      " |-- _c0: integer (nullable = true)\n",
      " |-- trans_date_trans_time: string (nullable = true)\n",
      " |-- cc_num: long (nullable = true)\n",
      " |-- merchant: string (nullable = true)\n",
      " |-- category: string (nullable = true)\n",
      " |-- amt: double (nullable = true)\n",
      " |-- first: string (nullable = true)\n",
      " |-- last: string (nullable = true)\n",
      " |-- gender: string (nullable = true)\n",
      " |-- street: string (nullable = true)\n",
      " |-- city: string (nullable = true)\n",
      " |-- state: string (nullable = true)\n",
      " |-- zip: integer (nullable = true)\n",
      " |-- lat: double (nullable = true)\n",
      " |-- long: double (nullable = true)\n",
      " |-- city_pop: integer (nullable = true)\n",
      " |-- job: string (nullable = true)\n",
      " |-- dob: string (nullable = true)\n",
      " |-- trans_num: string (nullable = true)\n",
      " |-- unix_time: integer (nullable = true)\n",
      " |-- merch_lat: double (nullable = true)\n",
      " |-- merch_long: double (nullable = true)\n",
      " |-- is_fraud: integer (nullable = true)\n",
      "\n"
     ]
    }
   ],
   "source": [
    "train_df.printSchema()"
   ]
  },
  {
   "cell_type": "code",
   "execution_count": 23,
   "id": "ed7ab081",
   "metadata": {},
   "outputs": [
    {
     "name": "stdout",
     "output_type": "stream",
     "text": [
      "Dimension of the Dataframe is: (1852394, 23)\n"
     ]
    }
   ],
   "source": [
    "# Combine train and test data and use cross validation later \n",
    "combined_df = train_df.union(test_df)\n",
    "row = combined_df.count()\n",
    "col = len(combined_df.columns)\n",
    "print(f'Dimension of the Dataframe is: {(row,col)}')"
   ]
  },
  {
   "cell_type": "code",
   "execution_count": 24,
   "id": "b764440b",
   "metadata": {},
   "outputs": [],
   "source": [
    "# generating column age, day_of_week, hour_of_transaction\n",
    "\n",
    "from pyspark.sql.functions import *\n",
    "from pyspark.sql.types import IntegerType, DoubleType\n",
    "\n",
    "\n",
    "# Function to calculate the distance between two adress\n",
    "def haversine(lon1, lat1, lon2, lat2):\n",
    "    lon1, lat1, lon2, lat2 = map(np.radians, [lon1, lat1, lon2, lat2])\n",
    "    newlon = lon2 - lon1\n",
    "    newlat = lat2 - lat1\n",
    "    haver_formula = (\n",
    "        np.sin(newlat / 2.0) ** 2\n",
    "        + np.cos(lat1) * np.cos(lat2) * np.sin(newlon / 2.0) ** 2\n",
    "    )\n",
    "    dist = 2 * np.arcsin(np.sqrt(haver_formula))\n",
    "    miles = 3958 * dist\n",
    "    return float(miles)\n",
    "    \n",
    "# create a udf for implementing python function in pyspark\n",
    "udf_haversine = udf(haversine, DoubleType())\n",
    "\n",
    "def create_column(data):\n",
    "    \n",
    "    # day of week and the transaction hour\n",
    "    data = data.withColumn('day_of_week', date_format('trans_date_trans_time', 'EEEE')) #1st col added\n",
    "    data = data.withColumn('hour_of_transaction', hour('trans_date_trans_time')) #2nd col added\n",
    "    \n",
    "    #month_year\n",
    "    data = data.withColumn('year', year('trans_date_trans_time'))\n",
    "    data = data.withColumn('month', month('trans_date_trans_time'))\n",
    "    data = data.withColumn('month_year', concat_ws('-', data.year ,data.month)).drop(*['year', 'month']) #3rd col added\n",
    "    \n",
    "    # trans_date\n",
    "    data = data.withColumn(\"trans_date\", func.to_date(func.col(\"trans_date_trans_time\")))\n",
    "    \n",
    "    #age\n",
    "    #data = data.withColumn(\"age\",round(months_between(current_date(),col(\"dob\"))/lit(12),2))\n",
    "    data = data.withColumn(\"age\",round(months_between(col('trans_date'),col(\"dob\"))/lit(12),2))\n",
    "    data = data.withColumn(\"age\", data[\"age\"].cast(IntegerType()))\n",
    "    \n",
    "    # distance between merchant and client\n",
    "    # data = data.withColumn(\"distance\", udf_haversine(\"long\", \"lat\", \"merch_long\",\"merch_lat\"))\n",
    "    \n",
    "    return data\n",
    "    \n",
    "combined_df = create_column(combined_df)\n",
    "train_df = create_column(train_df)\n",
    "test_df = create_column(test_df)"
   ]
  },
  {
   "cell_type": "code",
   "execution_count": 25,
   "id": "d62e9dd0",
   "metadata": {},
   "outputs": [],
   "source": [
    "# finding distance between merchant and customer\n",
    "\n",
    "udf_haversine = udf(haversine, DoubleType())\n",
    "combined_df = combined_df.withColumn(\"distance\", udf_haversine(\"long\", \"lat\", \"merch_long\",\"merch_lat\"))"
   ]
  },
  {
   "cell_type": "code",
   "execution_count": 26,
   "id": "572a05a7",
   "metadata": {},
   "outputs": [
    {
     "name": "stdout",
     "output_type": "stream",
     "text": [
      "root\n",
      " |-- _c0: integer (nullable = true)\n",
      " |-- trans_date_trans_time: string (nullable = true)\n",
      " |-- cc_num: long (nullable = true)\n",
      " |-- merchant: string (nullable = true)\n",
      " |-- category: string (nullable = true)\n",
      " |-- amt: double (nullable = true)\n",
      " |-- first: string (nullable = true)\n",
      " |-- last: string (nullable = true)\n",
      " |-- gender: string (nullable = true)\n",
      " |-- street: string (nullable = true)\n",
      " |-- city: string (nullable = true)\n",
      " |-- state: string (nullable = true)\n",
      " |-- zip: integer (nullable = true)\n",
      " |-- lat: double (nullable = true)\n",
      " |-- long: double (nullable = true)\n",
      " |-- city_pop: integer (nullable = true)\n",
      " |-- job: string (nullable = true)\n",
      " |-- dob: string (nullable = true)\n",
      " |-- trans_num: string (nullable = true)\n",
      " |-- unix_time: integer (nullable = true)\n",
      " |-- merch_lat: double (nullable = true)\n",
      " |-- merch_long: double (nullable = true)\n",
      " |-- is_fraud: integer (nullable = true)\n",
      " |-- day_of_week: string (nullable = true)\n",
      " |-- hour_of_transaction: integer (nullable = true)\n",
      " |-- month_year: string (nullable = false)\n",
      " |-- trans_date: date (nullable = true)\n",
      " |-- age: integer (nullable = true)\n",
      " |-- distance: double (nullable = true)\n",
      "\n"
     ]
    }
   ],
   "source": [
    "combined_df.printSchema()"
   ]
  },
  {
   "cell_type": "code",
   "execution_count": 27,
   "id": "e1da3649",
   "metadata": {},
   "outputs": [
    {
     "name": "stdout",
     "output_type": "stream",
     "text": [
      "+----------------+\n",
      "|CreditCard_Count|\n",
      "+----------------+\n",
      "|             999|\n",
      "+----------------+\n",
      "\n"
     ]
    }
   ],
   "source": [
    "# count unique credit cards\n",
    "from pyspark.sql.functions import countDistinct\n",
    "combined_df.select(countDistinct('cc_num').alias('CreditCard_Count')).show()"
   ]
  },
  {
   "cell_type": "code",
   "execution_count": 30,
   "id": "ed56d435",
   "metadata": {},
   "outputs": [],
   "source": [
    "# Adding dervided columns to understand the credit card usage behaviour Dayly, Monthly and weekly.\n",
    "combined_df.createOrReplaceTempView(\"combined_df\")\n",
    "\n",
    "new_df = \\\n",
    "    spark.sql(\n",
    "    \"\"\"SELECT *, mean(amt) OVER (\n",
    "        PARTITION BY cc_num\n",
    "        ORDER BY CAST(trans_date AS timestamp) \n",
    "        RANGE BETWEEN INTERVAL 0 DAYS PRECEDING AND CURRENT ROW\n",
    "     ) AS rolling_24h_avg_amt, \n",
    "     \n",
    "     mean(amt) OVER (\n",
    "        PARTITION BY cc_num\n",
    "        ORDER BY CAST(trans_date AS timestamp) \n",
    "        RANGE BETWEEN INTERVAL 6 DAYS PRECEDING AND CURRENT ROW\n",
    "     ) AS rolling_1_week_avg_amt,\n",
    "     \n",
    "     mean(amt) OVER (\n",
    "        PARTITION BY cc_num\n",
    "        ORDER BY CAST(trans_date AS timestamp) \n",
    "        RANGE BETWEEN INTERVAL 29 DAYS PRECEDING AND CURRENT ROW\n",
    "     ) AS rolling_1month_avg_amt,\n",
    "     \n",
    "     count(_c0) OVER (\n",
    "    PARTITION BY cc_num, trans_date\n",
    "    ) AS number_trans_24h,\n",
    "    \n",
    "    count(_c0) OVER (\n",
    "    PARTITION BY cc_num, day_of_week\n",
    "    ) AS number_trans_specific_day,\n",
    "    \n",
    "    count(_c0) OVER (\n",
    "    PARTITION BY cc_num, month_year\n",
    "    ) AS number_trans_month,\n",
    "    \n",
    "    sum(amt) OVER (\n",
    "        PARTITION BY cc_num\n",
    "        ORDER BY CAST(trans_date AS timestamp) \n",
    "        RANGE BETWEEN INTERVAL 89 DAYS PRECEDING AND CURRENT ROW\n",
    "     ) AS total_3month_amt\n",
    "     \n",
    "     FROM combined_df\"\"\")\n",
    "\n",
    "new_df = new_df.withColumn('weekly_avg_amt_over_3_months',(col('total_3month_amt')/ (1.0*12)))\n",
    "new_df = new_df.drop(*['total_3month_amt'])"
   ]
  },
  {
   "cell_type": "code",
   "execution_count": 31,
   "id": "13f2e643",
   "metadata": {},
   "outputs": [
    {
     "name": "stdout",
     "output_type": "stream",
     "text": [
      "root\n",
      " |-- _c0: integer (nullable = true)\n",
      " |-- cc_num: long (nullable = true)\n",
      " |-- merchant: string (nullable = true)\n",
      " |-- category: string (nullable = true)\n",
      " |-- amt: double (nullable = true)\n",
      " |-- first: string (nullable = true)\n",
      " |-- last: string (nullable = true)\n",
      " |-- gender: string (nullable = true)\n",
      " |-- street: string (nullable = true)\n",
      " |-- city: string (nullable = true)\n",
      " |-- state: string (nullable = true)\n",
      " |-- zip: integer (nullable = true)\n",
      " |-- lat: double (nullable = true)\n",
      " |-- long: double (nullable = true)\n",
      " |-- city_pop: integer (nullable = true)\n",
      " |-- job: string (nullable = true)\n",
      " |-- trans_num: string (nullable = true)\n",
      " |-- unix_time: integer (nullable = true)\n",
      " |-- merch_lat: double (nullable = true)\n",
      " |-- merch_long: double (nullable = true)\n",
      " |-- is_fraud: integer (nullable = true)\n",
      " |-- day_of_week: string (nullable = true)\n",
      " |-- hour_of_transaction: integer (nullable = true)\n",
      " |-- month_year: string (nullable = false)\n",
      " |-- trans_date: date (nullable = true)\n",
      " |-- age: integer (nullable = true)\n",
      " |-- distance: double (nullable = true)\n",
      " |-- rolling_24h_avg_amt: double (nullable = true)\n",
      " |-- rolling_1_week_avg_amt: double (nullable = true)\n",
      " |-- rolling_1month_avg_amt: double (nullable = true)\n",
      " |-- number_trans_24h: long (nullable = false)\n",
      " |-- number_trans_specific_day: long (nullable = false)\n",
      " |-- number_trans_month: long (nullable = false)\n",
      " |-- weekly_avg_amt_over_3_months: double (nullable = true)\n",
      " |-- trans_date_trans_time: timestamp (nullable = true)\n",
      " |-- dob: date (nullable = true)\n",
      "\n"
     ]
    }
   ],
   "source": [
    "# changing the transdate_trans_time and dob to timestamp\n",
    "\n",
    "new_df = new_df.withColumn('trans_date_trans_time_new', to_timestamp('trans_date_trans_time'))\n",
    "new_df = new_df.drop('trans_date_trans_time')\n",
    "new_df = new_df.withColumnRenamed('trans_date_trans_time_new','trans_date_trans_time')\n",
    "new_df = new_df.withColumn('dob_new', to_date('dob'))\n",
    "new_df = new_df.drop('dob')\n",
    "new_df = new_df.withColumnRenamed('dob_new','dob')\n",
    "new_df.printSchema()"
   ]
  },
  {
   "cell_type": "code",
   "execution_count": 32,
   "id": "061e685f",
   "metadata": {},
   "outputs": [
    {
     "data": {
      "text/html": [
       "<div>\n",
       "<style scoped>\n",
       "    .dataframe tbody tr th:only-of-type {\n",
       "        vertical-align: middle;\n",
       "    }\n",
       "\n",
       "    .dataframe tbody tr th {\n",
       "        vertical-align: top;\n",
       "    }\n",
       "\n",
       "    .dataframe thead th {\n",
       "        text-align: right;\n",
       "    }\n",
       "</style>\n",
       "<table border=\"1\" class=\"dataframe\">\n",
       "  <thead>\n",
       "    <tr style=\"text-align: right;\">\n",
       "      <th></th>\n",
       "      <th>age</th>\n",
       "    </tr>\n",
       "  </thead>\n",
       "  <tbody>\n",
       "    <tr>\n",
       "      <th>count</th>\n",
       "      <td>1852394.0</td>\n",
       "    </tr>\n",
       "    <tr>\n",
       "      <th>mean</th>\n",
       "      <td>46.0</td>\n",
       "    </tr>\n",
       "    <tr>\n",
       "      <th>std</th>\n",
       "      <td>17.0</td>\n",
       "    </tr>\n",
       "    <tr>\n",
       "      <th>min</th>\n",
       "      <td>13.0</td>\n",
       "    </tr>\n",
       "    <tr>\n",
       "      <th>25%</th>\n",
       "      <td>32.0</td>\n",
       "    </tr>\n",
       "    <tr>\n",
       "      <th>50%</th>\n",
       "      <td>44.0</td>\n",
       "    </tr>\n",
       "    <tr>\n",
       "      <th>75%</th>\n",
       "      <td>57.0</td>\n",
       "    </tr>\n",
       "    <tr>\n",
       "      <th>max</th>\n",
       "      <td>96.0</td>\n",
       "    </tr>\n",
       "  </tbody>\n",
       "</table>\n",
       "</div>"
      ],
      "text/plain": [
       "             age\n",
       "count  1852394.0\n",
       "mean        46.0\n",
       "std         17.0\n",
       "min         13.0\n",
       "25%         32.0\n",
       "50%         44.0\n",
       "75%         57.0\n",
       "max         96.0"
      ]
     },
     "execution_count": 32,
     "metadata": {},
     "output_type": "execute_result"
    }
   ],
   "source": [
    "np.round(new_df.select('age').toPandas().describe())"
   ]
  },
  {
   "cell_type": "code",
   "execution_count": 33,
   "id": "63a42a2e",
   "metadata": {},
   "outputs": [
    {
     "name": "stdout",
     "output_type": "stream",
     "text": [
      "+-------+------------------+\n",
      "|summary|               age|\n",
      "+-------+------------------+\n",
      "|  count|           1852394|\n",
      "|   mean|45.767610994205334|\n",
      "| stddev| 17.41244464440168|\n",
      "|    min|                13|\n",
      "|    max|                96|\n",
      "+-------+------------------+\n",
      "\n"
     ]
    }
   ],
   "source": [
    "new_df.select('age').describe().show()"
   ]
  },
  {
   "cell_type": "code",
   "execution_count": 34,
   "id": "625a5058",
   "metadata": {},
   "outputs": [],
   "source": [
    "def udf_age_category(age):\n",
    "    if (age < 25):\n",
    "        return 'Age Under 25'\n",
    "    elif (age >= 25 and age < 40):\n",
    "        return 'Age Between 25 & 40'\n",
    "    elif (age >= 40 and age < 50):\n",
    "        return 'Age Between 40 & 50'\n",
    "    elif (age >=50 and age < 65):\n",
    "        return 'Age between 50 & 65'\n",
    "    elif (age >=65):\n",
    "        return 'Age Over 65'\n",
    "    else: return 'N/A'\n",
    "\n",
    "age_udf = udf(udf_age_category)\n",
    "\n",
    "new_df = new_df.withColumn('age_udf_cat',age_udf('age'))\n",
    "\n"
   ]
  },
  {
   "cell_type": "code",
   "execution_count": 35,
   "id": "529646c1",
   "metadata": {},
   "outputs": [
    {
     "name": "stdout",
     "output_type": "stream",
     "text": [
      "+-------------------+---------+\n",
      "|age_udf_cat        |Age_Count|\n",
      "+-------------------+---------+\n",
      "|Age Between 25 & 40|588955   |\n",
      "|Age Between 40 & 50|433516   |\n",
      "|Age between 50 & 65|377176   |\n",
      "|Age Over 65        |284802   |\n",
      "|Age Under 25       |167945   |\n",
      "+-------------------+---------+\n",
      "\n"
     ]
    }
   ],
   "source": [
    "age_distribution = new_df.select('age_udf_cat').groupBy('age_udf_cat').agg(count(col('age_udf_cat')).alias('Age_Count')).sort('Age_Count', ascending = False).show(truncate = False)\n",
    "age_distribution"
   ]
  },
  {
   "cell_type": "code",
   "execution_count": 36,
   "id": "8f4745f7",
   "metadata": {},
   "outputs": [
    {
     "data": {
      "text/plain": [
       "<AxesSubplot:xlabel='age_udf_cat'>"
      ]
     },
     "execution_count": 36,
     "metadata": {},
     "output_type": "execute_result"
    },
    {
     "data": {
      "image/png": "[encoded data removed]",
      "text/plain": [
       "<Figure size 432x288 with 1 Axes>"
      ]
     },
     "metadata": {
      "needs_background": "light"
     },
     "output_type": "display_data"
    }
   ],
   "source": [
    "new_df.select('age_udf_cat').toPandas().value_counts().plot.bar()"
   ]
  },
  {
   "cell_type": "code",
   "execution_count": 37,
   "id": "63070975",
   "metadata": {},
   "outputs": [
    {
     "data": {
      "text/html": [
       "<div>\n",
       "<style scoped>\n",
       "    .dataframe tbody tr th:only-of-type {\n",
       "        vertical-align: middle;\n",
       "    }\n",
       "\n",
       "    .dataframe tbody tr th {\n",
       "        vertical-align: top;\n",
       "    }\n",
       "\n",
       "    .dataframe thead th {\n",
       "        text-align: right;\n",
       "    }\n",
       "</style>\n",
       "<table border=\"1\" class=\"dataframe\">\n",
       "  <thead>\n",
       "    <tr style=\"text-align: right;\">\n",
       "      <th></th>\n",
       "      <th>month_year</th>\n",
       "      <th>number_of_transactions</th>\n",
       "      <th>number_of_customers</th>\n",
       "    </tr>\n",
       "  </thead>\n",
       "  <tbody>\n",
       "    <tr>\n",
       "      <th>0</th>\n",
       "      <td>2019-01-01</td>\n",
       "      <td>52525</td>\n",
       "      <td>913</td>\n",
       "    </tr>\n",
       "    <tr>\n",
       "      <th>1</th>\n",
       "      <td>2019-02-01</td>\n",
       "      <td>49866</td>\n",
       "      <td>918</td>\n",
       "    </tr>\n",
       "    <tr>\n",
       "      <th>2</th>\n",
       "      <td>2019-03-01</td>\n",
       "      <td>70939</td>\n",
       "      <td>916</td>\n",
       "    </tr>\n",
       "    <tr>\n",
       "      <th>3</th>\n",
       "      <td>2019-04-01</td>\n",
       "      <td>68078</td>\n",
       "      <td>913</td>\n",
       "    </tr>\n",
       "    <tr>\n",
       "      <th>4</th>\n",
       "      <td>2019-05-01</td>\n",
       "      <td>72532</td>\n",
       "      <td>910</td>\n",
       "    </tr>\n",
       "    <tr>\n",
       "      <th>5</th>\n",
       "      <td>2019-06-01</td>\n",
       "      <td>86064</td>\n",
       "      <td>908</td>\n",
       "    </tr>\n",
       "    <tr>\n",
       "      <th>6</th>\n",
       "      <td>2019-07-01</td>\n",
       "      <td>86596</td>\n",
       "      <td>910</td>\n",
       "    </tr>\n",
       "    <tr>\n",
       "      <th>7</th>\n",
       "      <td>2019-08-01</td>\n",
       "      <td>87359</td>\n",
       "      <td>911</td>\n",
       "    </tr>\n",
       "    <tr>\n",
       "      <th>8</th>\n",
       "      <td>2019-09-01</td>\n",
       "      <td>70652</td>\n",
       "      <td>913</td>\n",
       "    </tr>\n",
       "    <tr>\n",
       "      <th>9</th>\n",
       "      <td>2019-10-01</td>\n",
       "      <td>68758</td>\n",
       "      <td>912</td>\n",
       "    </tr>\n",
       "    <tr>\n",
       "      <th>10</th>\n",
       "      <td>2019-11-01</td>\n",
       "      <td>70421</td>\n",
       "      <td>911</td>\n",
       "    </tr>\n",
       "    <tr>\n",
       "      <th>11</th>\n",
       "      <td>2019-12-01</td>\n",
       "      <td>141060</td>\n",
       "      <td>916</td>\n",
       "    </tr>\n",
       "    <tr>\n",
       "      <th>12</th>\n",
       "      <td>2020-01-01</td>\n",
       "      <td>52202</td>\n",
       "      <td>911</td>\n",
       "    </tr>\n",
       "    <tr>\n",
       "      <th>13</th>\n",
       "      <td>2020-02-01</td>\n",
       "      <td>47791</td>\n",
       "      <td>909</td>\n",
       "    </tr>\n",
       "    <tr>\n",
       "      <th>14</th>\n",
       "      <td>2020-03-01</td>\n",
       "      <td>72850</td>\n",
       "      <td>912</td>\n",
       "    </tr>\n",
       "    <tr>\n",
       "      <th>15</th>\n",
       "      <td>2020-04-01</td>\n",
       "      <td>66892</td>\n",
       "      <td>914</td>\n",
       "    </tr>\n",
       "    <tr>\n",
       "      <th>16</th>\n",
       "      <td>2020-05-01</td>\n",
       "      <td>74343</td>\n",
       "      <td>915</td>\n",
       "    </tr>\n",
       "    <tr>\n",
       "      <th>17</th>\n",
       "      <td>2020-06-01</td>\n",
       "      <td>87805</td>\n",
       "      <td>911</td>\n",
       "    </tr>\n",
       "    <tr>\n",
       "      <th>18</th>\n",
       "      <td>2020-07-01</td>\n",
       "      <td>85848</td>\n",
       "      <td>911</td>\n",
       "    </tr>\n",
       "    <tr>\n",
       "      <th>19</th>\n",
       "      <td>2020-08-01</td>\n",
       "      <td>88759</td>\n",
       "      <td>908</td>\n",
       "    </tr>\n",
       "    <tr>\n",
       "      <th>20</th>\n",
       "      <td>2020-09-01</td>\n",
       "      <td>69533</td>\n",
       "      <td>914</td>\n",
       "    </tr>\n",
       "    <tr>\n",
       "      <th>21</th>\n",
       "      <td>2020-10-01</td>\n",
       "      <td>69348</td>\n",
       "      <td>913</td>\n",
       "    </tr>\n",
       "    <tr>\n",
       "      <th>22</th>\n",
       "      <td>2020-11-01</td>\n",
       "      <td>72635</td>\n",
       "      <td>909</td>\n",
       "    </tr>\n",
       "    <tr>\n",
       "      <th>23</th>\n",
       "      <td>2020-12-01</td>\n",
       "      <td>139538</td>\n",
       "      <td>910</td>\n",
       "    </tr>\n",
       "  </tbody>\n",
       "</table>\n",
       "</div>"
      ],
      "text/plain": [
       "    month_year  number_of_transactions  number_of_customers\n",
       "0   2019-01-01                   52525                  913\n",
       "1   2019-02-01                   49866                  918\n",
       "2   2019-03-01                   70939                  916\n",
       "3   2019-04-01                   68078                  913\n",
       "4   2019-05-01                   72532                  910\n",
       "5   2019-06-01                   86064                  908\n",
       "6   2019-07-01                   86596                  910\n",
       "7   2019-08-01                   87359                  911\n",
       "8   2019-09-01                   70652                  913\n",
       "9   2019-10-01                   68758                  912\n",
       "10  2019-11-01                   70421                  911\n",
       "11  2019-12-01                  141060                  916\n",
       "12  2020-01-01                   52202                  911\n",
       "13  2020-02-01                   47791                  909\n",
       "14  2020-03-01                   72850                  912\n",
       "15  2020-04-01                   66892                  914\n",
       "16  2020-05-01                   74343                  915\n",
       "17  2020-06-01                   87805                  911\n",
       "18  2020-07-01                   85848                  911\n",
       "19  2020-08-01                   88759                  908\n",
       "20  2020-09-01                   69533                  914\n",
       "21  2020-10-01                   69348                  913\n",
       "22  2020-11-01                   72635                  909\n",
       "23  2020-12-01                  139538                  910"
      ]
     },
     "execution_count": 37,
     "metadata": {},
     "output_type": "execute_result"
    }
   ],
   "source": [
    "# used pandas to get visualizations and tables based on monthly transactions and fraud transactions. \n",
    "df = new_df.select(to_date('month_year').alias('month_year'),col('trans_num').alias('number_of_transactions'),\n",
    "                                col('cc_num').alias('number_of_customers'),col('is_fraud'),col('gender'),\n",
    "                                   col('category')).toPandas()\n",
    "df_ts_month_trans = df.groupby(df['month_year'])[['number_of_transactions','number_of_customers']].nunique().reset_index()\n",
    "#df_ts_month_trans = df_ts_month_trans.sort_values(by = ['month_year'])\n",
    "df_ts_month_trans"
   ]
  },
  {
   "cell_type": "code",
   "execution_count": 38,
   "id": "4866c999",
   "metadata": {},
   "outputs": [],
   "source": [
    "cols = ['_c0', 'age', 'trans_date_trans_time', 'cc_num', 'merchant', 'first', 'last', 'street', 'city', \\\n",
    "        'zip', 'job', 'dob', 'state','unix_time', 'trans_num','lat', 'long','month_year', 'trans_date', 'merch_lat', 'merch_long']\n",
    "preprocessed_data = new_df.drop(*cols)"
   ]
  },
  {
   "cell_type": "code",
   "execution_count": 39,
   "id": "93409143",
   "metadata": {},
   "outputs": [],
   "source": [
    "# checking correlation between numerical features\n",
    "\n",
    "from pyspark.ml.stat import Correlation\n",
    "from pyspark.ml.feature import VectorAssembler\n",
    "\n",
    "numeric_features = [t[0] for t in preprocessed_data.dtypes if t[1] != 'string']\n",
    "numeric_features_df = preprocessed_data.select(numeric_features)\n",
    "\n",
    "# convert to vector column first\n",
    "vector_col = \"corr_features\"\n",
    "assembler = VectorAssembler(inputCols=numeric_features_df.columns, outputCol=vector_col)\n",
    "df_vector = assembler.transform(numeric_features_df).select(vector_col)\n",
    "\n",
    "# Generating Correlation Matrix\n",
    "matrix = Correlation.corr(df_vector, vector_col).collect()[0][0]\n",
    "corrmatrix = matrix.toArray().tolist()"
   ]
  },
  {
   "cell_type": "code",
   "execution_count": 40,
   "id": "b1971c7c",
   "metadata": {},
   "outputs": [
    {
     "name": "stdout",
     "output_type": "stream",
     "text": [
      "+--------+-------+\n",
      "|is_fraud|  count|\n",
      "+--------+-------+\n",
      "|       1|   9651|\n",
      "|       0|1842743|\n",
      "+--------+-------+\n",
      "\n"
     ]
    }
   ],
   "source": [
    "# Count of fraud transactions and non-fraud transactions\n",
    "preprocessed_data.groupBy('is_fraud').count().show()"
   ]
  },
  {
   "cell_type": "code",
   "execution_count": 42,
   "id": "6faf7fbe",
   "metadata": {},
   "outputs": [],
   "source": [
    "from pyspark.ml.feature import OneHotEncoder, StringIndexer, VectorAssembler\n",
    "\n",
    "def transformColumnsToNumeric(df, inputCol):\n",
    "    \n",
    "    #apply StringIndexer to inputCol\n",
    "    inputCol_indexer = StringIndexer(inputCol = inputCol, outputCol = inputCol + \"-index\").fit(df)\n",
    "    df = inputCol_indexer.transform(df)\n",
    "    \n",
    "    onehotencoder_vector = OneHotEncoder(inputCol = inputCol + \"-index\", outputCol = inputCol + \"-vector\")\n",
    "    df = onehotencoder_vector.fit(df).transform(df)\n",
    "    \n",
    "    return df\n",
    "    \n",
    "    pass"
   ]
  },
  {
   "cell_type": "code",
   "execution_count": 43,
   "id": "dff2ba65",
   "metadata": {},
   "outputs": [],
   "source": [
    "df = transformColumnsToNumeric(preprocessed_data, \"category\")\n",
    "df = transformColumnsToNumeric(df, \"gender\")\n",
    "df = transformColumnsToNumeric(df, \"age_udf_cat\")\n",
    "df = transformColumnsToNumeric(df, \"day_of_week\")"
   ]
  },
  {
   "cell_type": "code",
   "execution_count": 44,
   "id": "17b8ecad",
   "metadata": {},
   "outputs": [],
   "source": [
    "from pyspark.ml.feature import VectorAssembler\n",
    "\n",
    "cols = [\n",
    " 'amt',\n",
    " 'city_pop',\n",
    " 'hour_of_transaction',\n",
    " 'distance',\n",
    " 'rolling_24h_avg_amt',\n",
    " 'rolling_1_week_avg_amt',\n",
    " 'rolling_1month_avg_amt',\n",
    " 'number_trans_24h',\n",
    " 'number_trans_specific_day',\n",
    " 'number_trans_month',\n",
    " 'weekly_avg_amt_over_3_months',\n",
    " 'category-vector',\n",
    " 'gender-vector',\n",
    " 'age_udf_cat-vector',   \n",
    " 'day_of_week-vector']\n",
    "\n",
    "vectorAssembler = VectorAssembler().setInputCols(cols).setOutputCol('finalfeatures')\n",
    "df = vectorAssembler.transform(df)"
   ]
  },
  {
   "cell_type": "code",
   "execution_count": 45,
   "id": "d7d9f15d",
   "metadata": {},
   "outputs": [],
   "source": [
    "# creating train test set\n",
    "train, validate, test = df.randomSplit([0.6, 0.3, 0.1])"
   ]
  },
  {
   "cell_type": "code",
   "execution_count": 46,
   "id": "53af2ab9",
   "metadata": {},
   "outputs": [
    {
     "name": "stdout",
     "output_type": "stream",
     "text": [
      "+--------+-------+\n",
      "|is_fraud|  count|\n",
      "+--------+-------+\n",
      "|       1|   5764|\n",
      "|       0|1105934|\n",
      "+--------+-------+\n",
      "\n"
     ]
    }
   ],
   "source": [
    "train.groupBy('is_fraud').count().show()"
   ]
  },
  {
   "cell_type": "code",
   "execution_count": 52,
   "id": "c64a79ef",
   "metadata": {},
   "outputs": [
    {
     "name": "stdout",
     "output_type": "stream",
     "text": [
      "+--------+------+\n",
      "|is_fraud| count|\n",
      "+--------+------+\n",
      "|       1|  2920|\n",
      "|       0|552852|\n",
      "+--------+------+\n",
      "\n"
     ]
    }
   ],
   "source": [
    "validate.groupBy('is_fraud').count().show()"
   ]
  },
  {
   "cell_type": "code",
   "execution_count": 48,
   "id": "c6f87184",
   "metadata": {},
   "outputs": [
    {
     "name": "stdout",
     "output_type": "stream",
     "text": [
      "+--------+------+\n",
      "|is_fraud| count|\n",
      "+--------+------+\n",
      "|       1|   967|\n",
      "|       0|183957|\n",
      "+--------+------+\n",
      "\n"
     ]
    }
   ],
   "source": [
    "test.groupBy('is_fraud').count().show()"
   ]
  },
  {
   "cell_type": "code",
   "execution_count": 50,
   "id": "d3086af7",
   "metadata": {},
   "outputs": [],
   "source": [
    "from pyspark.ml import feature, classification\n",
    "\n",
    "# Default parameters\n",
    "rf_model = classification.RandomForestClassifier(featuresCol='finalfeatures', labelCol='is_fraud').\\\n",
    "    fit(train)\n"
   ]
  },
  {
   "cell_type": "code",
   "execution_count": 51,
   "id": "c0b5db77",
   "metadata": {},
   "outputs": [
    {
     "data": {
      "text/html": [
       "<div>\n",
       "<style scoped>\n",
       "    .dataframe tbody tr th:only-of-type {\n",
       "        vertical-align: middle;\n",
       "    }\n",
       "\n",
       "    .dataframe tbody tr th {\n",
       "        vertical-align: top;\n",
       "    }\n",
       "\n",
       "    .dataframe thead th {\n",
       "        text-align: right;\n",
       "    }\n",
       "</style>\n",
       "<table border=\"1\" class=\"dataframe\">\n",
       "  <thead>\n",
       "    <tr style=\"text-align: right;\">\n",
       "      <th></th>\n",
       "      <th>feature</th>\n",
       "      <th>importance</th>\n",
       "    </tr>\n",
       "  </thead>\n",
       "  <tbody>\n",
       "    <tr>\n",
       "      <th>4</th>\n",
       "      <td>rolling_24h_avg_amt</td>\n",
       "      <td>0.336513</td>\n",
       "    </tr>\n",
       "    <tr>\n",
       "      <th>5</th>\n",
       "      <td>rolling_1_week_avg_amt</td>\n",
       "      <td>0.234998</td>\n",
       "    </tr>\n",
       "    <tr>\n",
       "      <th>0</th>\n",
       "      <td>amt</td>\n",
       "      <td>0.140750</td>\n",
       "    </tr>\n",
       "    <tr>\n",
       "      <th>6</th>\n",
       "      <td>rolling_1month_avg_amt</td>\n",
       "      <td>0.115959</td>\n",
       "    </tr>\n",
       "    <tr>\n",
       "      <th>7</th>\n",
       "      <td>number_trans_24h</td>\n",
       "      <td>0.053285</td>\n",
       "    </tr>\n",
       "    <tr>\n",
       "      <th>2</th>\n",
       "      <td>hour_of_transaction</td>\n",
       "      <td>0.049409</td>\n",
       "    </tr>\n",
       "    <tr>\n",
       "      <th>12</th>\n",
       "      <td>gender-vector</td>\n",
       "      <td>0.019629</td>\n",
       "    </tr>\n",
       "    <tr>\n",
       "      <th>8</th>\n",
       "      <td>number_trans_specific_day</td>\n",
       "      <td>0.017736</td>\n",
       "    </tr>\n",
       "    <tr>\n",
       "      <th>10</th>\n",
       "      <td>weekly_avg_amt_over_3_months</td>\n",
       "      <td>0.004795</td>\n",
       "    </tr>\n",
       "    <tr>\n",
       "      <th>9</th>\n",
       "      <td>number_trans_month</td>\n",
       "      <td>0.003412</td>\n",
       "    </tr>\n",
       "    <tr>\n",
       "      <th>14</th>\n",
       "      <td>day_of_week-vector</td>\n",
       "      <td>0.000568</td>\n",
       "    </tr>\n",
       "    <tr>\n",
       "      <th>1</th>\n",
       "      <td>city_pop</td>\n",
       "      <td>0.000415</td>\n",
       "    </tr>\n",
       "    <tr>\n",
       "      <th>11</th>\n",
       "      <td>category-vector</td>\n",
       "      <td>0.000243</td>\n",
       "    </tr>\n",
       "    <tr>\n",
       "      <th>13</th>\n",
       "      <td>age_udf_cat-vector</td>\n",
       "      <td>0.000043</td>\n",
       "    </tr>\n",
       "    <tr>\n",
       "      <th>3</th>\n",
       "      <td>distance</td>\n",
       "      <td>0.000000</td>\n",
       "    </tr>\n",
       "  </tbody>\n",
       "</table>\n",
       "</div>"
      ],
      "text/plain": [
       "                         feature  importance\n",
       "4            rolling_24h_avg_amt    0.336513\n",
       "5         rolling_1_week_avg_amt    0.234998\n",
       "0                            amt    0.140750\n",
       "6         rolling_1month_avg_amt    0.115959\n",
       "7               number_trans_24h    0.053285\n",
       "2            hour_of_transaction    0.049409\n",
       "12                 gender-vector    0.019629\n",
       "8      number_trans_specific_day    0.017736\n",
       "10  weekly_avg_amt_over_3_months    0.004795\n",
       "9             number_trans_month    0.003412\n",
       "14            day_of_week-vector    0.000568\n",
       "1                       city_pop    0.000415\n",
       "11               category-vector    0.000243\n",
       "13            age_udf_cat-vector    0.000043\n",
       "3                       distance    0.000000"
      ]
     },
     "execution_count": 51,
     "metadata": {},
     "output_type": "execute_result"
    }
   ],
   "source": [
    "feature_importance = pd.DataFrame(list(zip(cols, rf_model.featureImportances.toArray())),\n",
    "            columns = ['feature', 'importance']).sort_values('importance', ascending=False)\n",
    "feature_importance"
   ]
  },
  {
   "cell_type": "code",
   "execution_count": 53,
   "id": "bbbe9229",
   "metadata": {},
   "outputs": [
    {
     "data": {
      "text/plain": [
       "0.8253515294372871"
      ]
     },
     "execution_count": 53,
     "metadata": {},
     "output_type": "execute_result"
    }
   ],
   "source": [
    "from pyspark.ml.evaluation import BinaryClassificationEvaluator\n",
    "bce = BinaryClassificationEvaluator(labelCol = 'is_fraud', metricName = 'areaUnderPR')\n",
    "\n",
    "# Finding out area under PR curve for validation dataset\n",
    "bce.evaluate(rf_model.transform(validate))"
   ]
  },
  {
   "cell_type": "code",
   "execution_count": 54,
   "id": "73000916",
   "metadata": {},
   "outputs": [],
   "source": [
    "#Estimating Generalized Performance\n",
    "from pyspark.sql.types import FloatType\n",
    "from pyspark.mllib.evaluation import MulticlassMetrics\n",
    "\n",
    "predictions_rf = rf_model.transform(test)\n",
    "\n",
    "#select only prediction and label columns\n",
    "preds_and_labels_rf = predictions_rf.select(['prediction','is_fraud']).withColumn('is_fraud', func.col('is_fraud').cast(FloatType())).orderBy('prediction')"
   ]
  },
  {
   "cell_type": "code",
   "execution_count": 55,
   "id": "ab14355b",
   "metadata": {},
   "outputs": [
    {
     "data": {
      "text/plain": [
       "array([[1.83953e+05, 4.00000e+00],\n",
       "       [6.25000e+02, 3.42000e+02]])"
      ]
     },
     "execution_count": 55,
     "metadata": {},
     "output_type": "execute_result"
    }
   ],
   "source": [
    "#Find Confusion Matrix\n",
    "confusion_matrix_rf = MulticlassMetrics(preds_and_labels_rf.rdd.map(tuple)).confusionMatrix().toArray()\n",
    "confusion_matrix_rf"
   ]
  },
  {
   "cell_type": "code",
   "execution_count": 56,
   "id": "9ea7df75",
   "metadata": {},
   "outputs": [],
   "source": [
    "class_names=[1.0,0.0]\n",
    "import itertools\n",
    "def plot_confusion_matrix(cm, classes,\n",
    "                          normalize=False,\n",
    "                          title='Confusion matrix',\n",
    "                          cmap=plt.cm.Blues):\n",
    "    \"\"\"\n",
    "    This function prints and plots the confusion matrix.\n",
    "    Normalization can be applied by setting `normalize=True`.\n",
    "    \"\"\"\n",
    "    if normalize:\n",
    "        cm = cm.astype('float') / cm.sum(axis=1)[:, np.newaxis]\n",
    "        print(\"Normalized confusion matrix\")\n",
    "    else:\n",
    "        print('Confusion matrix, without normalization')\n",
    "\n",
    "    print(cm)\n",
    "\n",
    "    plt.imshow(cm, interpolation='nearest', cmap=cmap)\n",
    "    plt.title(title)\n",
    "    plt.colorbar()\n",
    "    tick_marks = np.arange(len(classes))\n",
    "    plt.xticks(tick_marks, classes, rotation=45)\n",
    "    plt.yticks(tick_marks, classes)\n",
    "\n",
    "    fmt = '.2f' if normalize else 'd'\n",
    "    thresh = cm.max() / 2.\n",
    "    for i, j in itertools.product(range(cm.shape[0]), range(cm.shape[1])):\n",
    "        plt.text(j, i, format(cm[i, j], fmt),\n",
    "                 horizontalalignment=\"center\",\n",
    "                 color=\"white\" if cm[i, j] > thresh else \"black\")\n",
    "\n",
    "    plt.tight_layout()\n",
    "    plt.ylabel('True label')\n",
    "    plt.xlabel('Predicted label')"
   ]
  },
  {
   "cell_type": "code",
   "execution_count": 57,
   "id": "269227f3",
   "metadata": {},
   "outputs": [
    {
     "name": "stdout",
     "output_type": "stream",
     "text": [
      "Confusion matrix, without normalization\n",
      "[[   342    625]\n",
      " [     4 183953]]\n"
     ]
    },
    {
     "data": {
      "image/png": "[encoded data removed]",
      "text/plain": [
       "<Figure size 432x288 with 2 Axes>"
      ]
     },
     "metadata": {
      "needs_background": "light"
     },
     "output_type": "display_data"
    }
   ],
   "source": [
    "from sklearn.metrics import confusion_matrix\n",
    "\n",
    "y_true_rf = predictions_rf.select(\"is_fraud\")\n",
    "y_true_rf = y_true_rf.toPandas()\n",
    "\n",
    "y_pred_rf = predictions_rf.select(\"prediction\")\n",
    "y_pred_rf = y_pred_rf.toPandas()\n",
    "\n",
    "cnf_matrix1 = confusion_matrix(y_true_rf, y_pred_rf,labels=class_names)\n",
    "#cnf_matrix\n",
    "plt.figure()\n",
    "plot_confusion_matrix(cnf_matrix1, classes=class_names,\n",
    "                      title='Confusion matrix')\n",
    "plt.show()"
   ]
  },
  {
   "cell_type": "code",
   "execution_count": 58,
   "id": "7e26c8c5",
   "metadata": {},
   "outputs": [
    {
     "name": "stdout",
     "output_type": "stream",
     "text": [
      "Precision:  0.9884393063583815\n",
      "recall:  0.3536711478800414\n",
      "f1_score:  0.520944402132521\n"
     ]
    }
   ],
   "source": [
    "#Precision, Recall and F1 Score\n",
    "precision_rf = confusion_matrix_rf[1,1]/np.add(confusion_matrix_rf[0,1], confusion_matrix_rf[1,1])\n",
    "print(\"Precision: \",precision_rf)\n",
    "recall_rf = confusion_matrix_rf[1,1]/np.add(confusion_matrix_rf[1,0], confusion_matrix_rf[1,1])\n",
    "print(\"recall: \",recall_rf)\n",
    "f1_score_rf = 2*(precision_rf*recall_rf)/(precision_rf+recall_rf)\n",
    "print(\"f1_score: \",f1_score_rf)"
   ]
  },
  {
   "cell_type": "code",
   "execution_count": 59,
   "id": "14d809bf",
   "metadata": {},
   "outputs": [
    {
     "name": "stdout",
     "output_type": "stream",
     "text": [
      "Area under ROC Curve: 0.9910\n",
      "Area under PR Curve: 0.8212\n"
     ]
    }
   ],
   "source": [
    "#ROC and Precision-Recall Curve\n",
    "from pyspark.ml.evaluation import BinaryClassificationEvaluator\n",
    "\n",
    "# Let's use the run-of-the-mill evaluator\n",
    "evaluator = BinaryClassificationEvaluator(labelCol='is_fraud')\n",
    "\n",
    "# We have only two choices: area under ROC and PR curves :-(\n",
    "auroc_rf = evaluator.evaluate(predictions_rf, {evaluator.metricName: \"areaUnderROC\"})\n",
    "auprc_rf = evaluator.evaluate(predictions_rf, {evaluator.metricName: \"areaUnderPR\"})\n",
    "print(\"Area under ROC Curve: {:.4f}\".format(auroc_rf))\n",
    "print(\"Area under PR Curve: {:.4f}\".format(auprc_rf))"
   ]
  },
  {
   "cell_type": "code",
   "execution_count": 60,
   "id": "76938ebd",
   "metadata": {},
   "outputs": [
    {
     "name": "stdout",
     "output_type": "stream",
     "text": [
      "Collecting handyspark\n",
      "  Downloading handyspark-0.2.2a1-py2.py3-none-any.whl (39 kB)\n",
      "Requirement already satisfied: pyspark in c:\\users\\rajip\\miniconda3\\lib\\site-packages (from handyspark) (3.2.0)\n",
      "Requirement already satisfied: scikit-learn in c:\\users\\rajip\\miniconda3\\lib\\site-packages (from handyspark) (1.0.2)\n",
      "Requirement already satisfied: scipy in c:\\users\\rajip\\miniconda3\\lib\\site-packages (from handyspark) (1.7.3)\n",
      "Requirement already satisfied: pandas in c:\\users\\rajip\\miniconda3\\lib\\site-packages (from handyspark) (1.3.5)\n",
      "Requirement already satisfied: numpy in c:\\users\\rajip\\miniconda3\\lib\\site-packages (from handyspark) (1.22.0)\n",
      "Requirement already satisfied: matplotlib in c:\\users\\rajip\\miniconda3\\lib\\site-packages (from handyspark) (3.5.1)\n",
      "Requirement already satisfied: seaborn in c:\\users\\rajip\\miniconda3\\lib\\site-packages (from handyspark) (0.11.2)\n",
      "Requirement already satisfied: pyarrow in c:\\users\\rajip\\miniconda3\\lib\\site-packages (from handyspark) (3.0.0)\n",
      "Requirement already satisfied: findspark in c:\\users\\rajip\\miniconda3\\lib\\site-packages (from handyspark) (1.4.2)\n",
      "Requirement already satisfied: python-dateutil>=2.7 in c:\\users\\rajip\\miniconda3\\lib\\site-packages (from matplotlib->handyspark) (2.8.2)\n",
      "Requirement already satisfied: kiwisolver>=1.0.1 in c:\\users\\rajip\\miniconda3\\lib\\site-packages (from matplotlib->handyspark) (1.3.2)\n",
      "Requirement already satisfied: packaging>=20.0 in c:\\users\\rajip\\miniconda3\\lib\\site-packages (from matplotlib->handyspark) (21.3)\n",
      "Requirement already satisfied: fonttools>=4.22.0 in c:\\users\\rajip\\miniconda3\\lib\\site-packages (from matplotlib->handyspark) (4.28.5)\n",
      "Requirement already satisfied: pyparsing>=2.2.1 in c:\\users\\rajip\\miniconda3\\lib\\site-packages (from matplotlib->handyspark) (3.0.6)\n",
      "Requirement already satisfied: cycler>=0.10 in c:\\users\\rajip\\miniconda3\\lib\\site-packages (from matplotlib->handyspark) (0.11.0)\n",
      "Requirement already satisfied: pillow>=6.2.0 in c:\\users\\rajip\\miniconda3\\lib\\site-packages (from matplotlib->handyspark) (8.4.0)\n",
      "Requirement already satisfied: six>=1.5 in c:\\users\\rajip\\miniconda3\\lib\\site-packages (from python-dateutil>=2.7->matplotlib->handyspark) (1.16.0)\n",
      "Requirement already satisfied: pytz>=2017.3 in c:\\users\\rajip\\miniconda3\\lib\\site-packages (from pandas->handyspark) (2021.3)\n",
      "Requirement already satisfied: py4j==0.10.9.2 in c:\\users\\rajip\\miniconda3\\lib\\site-packages (from pyspark->handyspark) (0.10.9.2)\n",
      "Requirement already satisfied: joblib>=0.11 in c:\\users\\rajip\\miniconda3\\lib\\site-packages (from scikit-learn->handyspark) (1.1.0)\n",
      "Requirement already satisfied: threadpoolctl>=2.0.0 in c:\\users\\rajip\\miniconda3\\lib\\site-packages (from scikit-learn->handyspark) (3.0.0)\n",
      "Installing collected packages: handyspark\n",
      "Successfully installed handyspark-0.2.2a1\n"
     ]
    }
   ],
   "source": [
    "!pip install handyspark"
   ]
  },
  {
   "cell_type": "code",
   "execution_count": 61,
   "id": "8205f060",
   "metadata": {},
   "outputs": [
    {
     "name": "stdout",
     "output_type": "stream",
     "text": [
      "Area under ROC Curve: 0.9910\n",
      "Area under PR Curve: 0.8212\n"
     ]
    },
    {
     "data": {
      "text/plain": [
       "<AxesSubplot:title={'center':'Precision-Recall Curve'}, xlabel='Recall', ylabel='Precision'>"
      ]
     },
     "execution_count": 61,
     "metadata": {},
     "output_type": "execute_result"
    },
    {
     "data": {
      "image/png": "[encoded data removed]",
      "text/plain": [
       "<Figure size 864x288 with 2 Axes>"
      ]
     },
     "metadata": {
      "needs_background": "light"
     },
     "output_type": "display_data"
    }
   ],
   "source": [
    "from handyspark import *\n",
    "# Creates instance of extended version of BinaryClassificationMetrics\n",
    "# using a DataFrame and its probability and label columns, as the output\n",
    "# from the classifier\n",
    "bcm = BinaryClassificationMetrics(predictions_rf, scoreCol='probability', labelCol='is_fraud')\n",
    "\n",
    "# We still can get the same metrics as the evaluator...\n",
    "print(\"Area under ROC Curve: {:.4f}\".format(bcm.areaUnderROC))\n",
    "print(\"Area under PR Curve: {:.4f}\".format(bcm.areaUnderPR))\n",
    "\n",
    "# But now we can PLOT both ROC and PR curves!\n",
    "fig, axs = plt.subplots(1, 2, figsize=(12, 4))\n",
    "bcm.plot_roc_curve(ax=axs[0])\n",
    "bcm.plot_pr_curve(ax=axs[1])"
   ]
  },
  {
   "cell_type": "code",
   "execution_count": null,
   "id": "f84d169b",
   "metadata": {},
   "outputs": [],
   "source": []
  }
 ],
 "metadata": {
  "kernelspec": {
   "display_name": "Python 3 (ipykernel)",
   "language": "python",
   "name": "python3"
  },
  "language_info": {
   "codemirror_mode": {
    "name": "ipython",
    "version": 3
   },
   "file_extension": ".py",
   "mimetype": "text/x-python",
   "name": "python",
   "nbconvert_exporter": "python",
   "pygments_lexer": "ipython3",
   "version": "3.8.10"
  }
 },
 "nbformat": 4,
 "nbformat_minor": 5
}
