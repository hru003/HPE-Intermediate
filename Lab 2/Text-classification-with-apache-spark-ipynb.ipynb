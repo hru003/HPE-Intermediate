{
 "cells": [
  {
   "cell_type": "markdown",
   "metadata": {
    "_cell_guid": "5ba680f8-a3fc-446b-9a7b-9c3d2e4b246a",
    "_uuid": "ff70c24af3dd6fc32fb36a20646f7b5a13732197"
   },
   "source": [
    "###  Text Processing and Classification with Apache Spark\n",
    "---\n",
    "This notebook performs basic text processing using the Apache Spark, using the toxic comment text classification dataset. "
   ]
  },
  {
   "cell_type": "markdown",
   "metadata": {
    "_cell_guid": "ae3a254c-5a08-4ad6-a843-4ae741973778",
    "_uuid": "6c067929d097771eb75e25acdfae90799a951e6e"
   },
   "source": [
    "Import all the required libraries\n",
    "The `pyspark.ml` : machine learning with spark dataframes.  `pyspark.mllib`- machine learning with spark RDD. "
   ]
  },
  {
   "cell_type": "code",
   "execution_count": 1,
   "metadata": {
    "_cell_guid": "88063855-e665-4b75-bd68-d05f629b1d46",
    "_kg_hide-output": true,
    "_uuid": "58e4c9a81b246eb525f96afbd0e685232f3d007d"
   },
   "outputs": [],
   "source": [
    "import pandas as pd\n",
    "\n",
    "from pyspark.sql import SparkSession\n",
    "import pyspark.sql.functions as F\n",
    "import pyspark.sql.types as T\n",
    "from pyspark.ml.feature import Tokenizer, HashingTF, IDF\n",
    "from pyspark.ml.classification import LogisticRegression"
   ]
  },
  {
   "cell_type": "code",
   "execution_count": 2,
   "metadata": {
    "_cell_guid": "951d05e9-2f84-41ca-a9eb-3a158752fba8",
    "_kg_hide-output": true,
    "_uuid": "2cb96c2cfb08d1a7505f9ab898598d38bff3d0df"
   },
   "outputs": [],
   "source": [
    "# Build a spark context\n",
    "hc = (SparkSession.builder\n",
    "                  .appName('Toxic Comment Classification')\n",
    "                  .enableHiveSupport()\n",
    "                  .config(\"spark.executor.memory\", \"4G\")\n",
    "                  .config(\"spark.driver.memory\",\"18G\")\n",
    "                  .config(\"spark.executor.cores\",\"7\")\n",
    "                  .config(\"spark.python.worker.memory\",\"4G\")\n",
    "                  .config(\"spark.driver.maxResultSize\",\"0\")\n",
    "                  .config(\"spark.sql.crossJoin.enabled\", \"true\")\n",
    "                  .config(\"spark.serializer\",\"org.apache.spark.serializer.KryoSerializer\")\n",
    "                  .config(\"spark.default.parallelism\",\"2\")\n",
    "                  .getOrCreate())"
   ]
  },
  {
   "cell_type": "code",
   "execution_count": 3,
   "metadata": {
    "_cell_guid": "479aa3d9-f12a-4ad7-a0fd-719300624006",
    "_uuid": "9c0a267388ce26e88296225f642951b4810b2329"
   },
   "outputs": [],
   "source": [
    "hc.sparkContext.setLogLevel('INFO')"
   ]
  },
  {
   "cell_type": "code",
   "execution_count": 4,
   "metadata": {
    "_cell_guid": "04cafe5a-8fe5-4ac8-95ec-8a248eaf08b0",
    "_uuid": "9796d202f1329106b15e3443f748db45d2fdfc33"
   },
   "outputs": [
    {
     "data": {
      "text/plain": [
       "'3.0.3'"
      ]
     },
     "execution_count": 4,
     "metadata": {},
     "output_type": "execute_result"
    }
   ],
   "source": [
    "hc.version"
   ]
  },
  {
   "cell_type": "markdown",
   "metadata": {
    "_cell_guid": "ef731539-d035-4ce8-935b-1b7c117413cb",
    "_uuid": "fde136f134098374a4f029682653b672571ed56f"
   },
   "source": [
    " Load the data into a DataFrame using Pandas, and convert the Pandas DataFrame to a Spark DataFrame."
   ]
  },
  {
   "cell_type": "code",
   "execution_count": 7,
   "metadata": {
    "_cell_guid": "596ef630-416c-49dd-a16c-eb04fd012148",
    "_kg_hide-output": true,
    "_uuid": "df7548029f02f8a56126d5a1102f05529a1ff19a"
   },
   "outputs": [],
   "source": [
    "def to_spark_df(fin):\n",
    "    \"\"\"\n",
    "    Parse a filepath to a spark dataframe using the pandas api.\n",
    "    \n",
    "    Parameters\n",
    "    ----------\n",
    "    fin : str\n",
    "        The path to the file on the local filesystem that contains the csv data.\n",
    "        \n",
    "    Returns\n",
    "    -------\n",
    "    df : pyspark.sql.dataframe.DataFrame\n",
    "        A spark DataFrame containing the parsed csv data.\n",
    "    \"\"\"\n",
    "    df = pd.read_csv(fin)\n",
    "    df.fillna(\"\", inplace=True)\n",
    "    df = hc.createDataFrame(df)\n",
    "    return(df)\n",
    "\n",
    "# Load the train-test sets\n",
    "train = to_spark_df(\"train.csv\")\n",
    "test = to_spark_df(\"test.csv\")"
   ]
  },
  {
   "cell_type": "code",
   "execution_count": 8,
   "metadata": {
    "_cell_guid": "42f9ad2b-96ea-4406-b1a4-dc7e67e8cafa",
    "_kg_hide-output": true,
    "_uuid": "a16f539c3e4e8d1e2985ada6e8140016e1625c7f"
   },
   "outputs": [],
   "source": [
    "out_cols = [i for i in train.columns if i not in [\"id\", \"comment_text\"]]"
   ]
  },
  {
   "cell_type": "markdown",
   "metadata": {},
   "source": [
    " Show top 5 rows of the train dataset"
   ]
  },
  {
   "cell_type": "code",
   "execution_count": 9,
   "metadata": {
    "_cell_guid": "7043dcab-24c3-47e4-a7b8-28506f92c6d9",
    "_kg_hide-output": true,
    "_uuid": "6ce0144e1c393a4dcf89c4ff245fd2003205de10"
   },
   "outputs": [
    {
     "name": "stdout",
     "output_type": "stream",
     "text": [
      "+----------------+--------------------+-----+------------+-------+------+------+-------------+\n",
      "|              id|        comment_text|toxic|severe_toxic|obscene|threat|insult|identity_hate|\n",
      "+----------------+--------------------+-----+------------+-------+------+------+-------------+\n",
      "|0000997932d777bf|Explanation\n",
      "Why t...|    0|           0|      0|     0|     0|            0|\n",
      "|000103f0d9cfb60f|D'aww! He matches...|    0|           0|      0|     0|     0|            0|\n",
      "|000113f07ec002fd|Hey man, I'm real...|    0|           0|      0|     0|     0|            0|\n",
      "|0001b41b1c6bb37e|\"\n",
      "More\n",
      "I can't ma...|    0|           0|      0|     0|     0|            0|\n",
      "|0001d958c54c6e35|You, sir, are my ...|    0|           0|      0|     0|     0|            0|\n",
      "+----------------+--------------------+-----+------------+-------+------+------+-------------+\n",
      "only showing top 5 rows\n",
      "\n"
     ]
    }
   ],
   "source": [
    "\n",
    "train.show(5)"
   ]
  },
  {
   "cell_type": "markdown",
   "metadata": {},
   "source": [
    "Show 5 rows of  toxic comments in the data"
   ]
  },
  {
   "cell_type": "code",
   "execution_count": 10,
   "metadata": {
    "_cell_guid": "a1f69fcd-345f-4c73-80ea-cafac1d85179",
    "_kg_hide-output": true,
    "_uuid": "45d56e1e130d49fbfdb84bdfbff15a38fa64a2a7"
   },
   "outputs": [
    {
     "name": "stdout",
     "output_type": "stream",
     "text": [
      "+----------------+--------------------+-----+------------+-------+------+------+-------------+\n",
      "|              id|        comment_text|toxic|severe_toxic|obscene|threat|insult|identity_hate|\n",
      "+----------------+--------------------+-----+------------+-------+------+------+-------------+\n",
      "|0002bcb3da6cb337|COCKSUCKER BEFORE...|    1|           1|      1|     0|     1|            0|\n",
      "|0005c987bdfc9d4b|Hey... what is it...|    1|           0|      0|     0|     0|            0|\n",
      "|0007e25b2121310b|Bye! \n",
      "\n",
      "Don't look...|    1|           0|      0|     0|     0|            0|\n",
      "|001810bf8c45bf5f|You are gay or an...|    1|           0|      1|     0|     1|            1|\n",
      "|00190820581d90ce|FUCK YOUR FILTHY ...|    1|           0|      1|     0|     1|            0|\n",
      "+----------------+--------------------+-----+------------+-------+------+------+-------------+\n",
      "only showing top 5 rows\n",
      "\n"
     ]
    }
   ],
   "source": [
    "# View some toxic comments\n",
    "train.filter(F.col('toxic') == 1).show(5)"
   ]
  },
  {
   "cell_type": "markdown",
   "metadata": {},
   "source": [
    "Tokenize the sentence "
   ]
  },
  {
   "cell_type": "code",
   "execution_count": 11,
   "metadata": {
    "_cell_guid": "a7b7efd5-9aaf-4773-ab0e-ba2e3535aee6",
    "_kg_hide-output": true,
    "_uuid": "e10741ca332b641cba69fcdf6e5f5ded1fa74536"
   },
   "outputs": [],
   "source": [
    "\n",
    "tokenizer = Tokenizer(inputCol=\"comment_text\", outputCol=\"words\")\n",
    "wordsData = tokenizer.transform(train)"
   ]
  },
  {
   "cell_type": "markdown",
   "metadata": {},
   "source": [
    "count the words in the document"
   ]
  },
  {
   "cell_type": "code",
   "execution_count": 12,
   "metadata": {
    "_cell_guid": "07c65950-2377-4a16-a616-4d8126f327f2",
    "_kg_hide-output": true,
    "_uuid": "fd83361dd1833f1818ae5026f1bec7c2a2ebc670"
   },
   "outputs": [],
   "source": [
    "\n",
    "hashingTF = HashingTF(inputCol=\"words\", outputCol=\"rawFeatures\")\n",
    "tf = hashingTF.transform(wordsData)"
   ]
  },
  {
   "cell_type": "markdown",
   "metadata": {},
   "source": [
    "Display two raw features"
   ]
  },
  {
   "cell_type": "code",
   "execution_count": 13,
   "metadata": {
    "_cell_guid": "15e617e5-87da-43fb-84d0-296edcd93539",
    "_kg_hide-output": true,
    "_uuid": "e438e74459ed44a83366c5a0cf3c1c391fa74f4e"
   },
   "outputs": [
    {
     "data": {
      "text/plain": [
       "[Row(rawFeatures=SparseVector(262144, {6240: 1.0, 7221: 1.0, 9420: 1.0, 10214: 1.0, 11680: 1.0, 15494: 1.0, 19036: 1.0, 19208: 1.0, 23032: 1.0, 25000: 1.0, 26144: 1.0, 66299: 1.0, 67416: 1.0, 72125: 1.0, 74944: 1.0, 77971: 1.0, 79300: 1.0, 79968: 1.0, 89833: 1.0, 94488: 1.0, 95889: 3.0, 97171: 1.0, 101169: 1.0, 103863: 1.0, 110427: 1.0, 110510: 1.0, 116767: 1.0, 140784: 1.0, 141086: 1.0, 145284: 1.0, 151536: 1.0, 151751: 1.0, 166368: 1.0, 187114: 1.0, 219915: 1.0, 223402: 1.0, 229137: 1.0, 231630: 1.0, 233967: 1.0, 240944: 1.0, 253170: 1.0})),\n",
       " Row(rawFeatures=SparseVector(262144, {2195: 1.0, 4714: 1.0, 13283: 1.0, 48234: 1.0, 85939: 1.0, 108541: 1.0, 119702: 1.0, 121320: 1.0, 137179: 1.0, 141086: 1.0, 159767: 1.0, 165258: 1.0, 169800: 1.0, 212492: 1.0, 218233: 1.0, 224255: 1.0, 224850: 1.0, 249180: 1.0}))]"
      ]
     },
     "execution_count": 13,
     "metadata": {},
     "output_type": "execute_result"
    }
   ],
   "source": [
    "tf.select('rawFeatures').take(2)"
   ]
  },
  {
   "cell_type": "markdown",
   "metadata": {},
   "source": [
    " Build the idf model and transform the original token frequencies into their tf-idf counterparts"
   ]
  },
  {
   "cell_type": "code",
   "execution_count": 15,
   "metadata": {
    "_cell_guid": "9a796e2d-e695-46f1-b5ad-208161c485ad",
    "_kg_hide-output": true,
    "_uuid": "e2d3895da578cea7989d6ddc10a10cfe1a75c0b0"
   },
   "outputs": [],
   "source": [
    "\n",
    "idf = IDF(inputCol=\"rawFeatures\", outputCol=\"features\")\n",
    "idfModel = idf.fit(tf) \n",
    "tfidf = idfModel.transform(tf)\n"
   ]
  },
  {
   "cell_type": "code",
   "execution_count": 16,
   "metadata": {
    "_cell_guid": "96bf15df-22d9-4709-8e98-2d3e878b5103",
    "_kg_hide-output": true,
    "_uuid": "cc3cbb297a1df47156e18aa7c18ba0e698cd5fa1"
   },
   "outputs": [
    {
     "data": {
      "text/plain": [
       "Row(features=SparseVector(262144, {6240: 8.7614, 7221: 2.2023, 9420: 3.1522, 10214: 6.4668, 11680: 5.0275, 15494: 3.4215, 19036: 0.7385, 19208: 2.2441, 23032: 5.0114, 25000: 5.6868, 26144: 3.5877, 66299: 7.7906, 67416: 1.1947, 72125: 2.2731, 74944: 2.5138, 77971: 7.6235, 79300: 6.672, 79968: 9.9008, 89833: 3.0516, 94488: 8.4249, 95889: 1.2127, 97171: 2.0161, 101169: 1.734, 103863: 6.8445, 110427: 2.1174, 110510: 5.6685, 116767: 6.0244, 140784: 3.0482, 141086: 2.4778, 145284: 8.0682, 151536: 2.2414, 151751: 9.0358, 166368: 2.0431, 187114: 1.7657, 219915: 0.6965, 223402: 3.3517, 229137: 4.5705, 231630: 9.4953, 233967: 3.102, 240944: 1.7538, 253170: 2.6999}))"
      ]
     },
     "execution_count": 16,
     "metadata": {},
     "output_type": "execute_result"
    }
   ],
   "source": [
    "tfidf.select(\"features\").first()"
   ]
  },
  {
   "cell_type": "markdown",
   "metadata": {
    "_cell_guid": "bd1b8ba2-81e8-49f5-8476-caae7f117d95",
    "_uuid": "6117dccbd6935be3c83ab5b642dc45a69c32d960"
   },
   "source": [
    "\n",
    "\n",
    "Build a logistic regression model for the binary toxic column.\n",
    "Use the features column (the tfidf values) as the input vectors, `X`, and the toxic column as output vector, `y`."
   ]
  },
  {
   "cell_type": "code",
   "execution_count": 17,
   "metadata": {
    "_cell_guid": "f2dddc91-7f4a-4105-88fe-323b1c464b1f",
    "_kg_hide-output": true,
    "_uuid": "4a6b9c340e40dd75100908d410c495218f5b68df"
   },
   "outputs": [],
   "source": [
    "REG = 0.1"
   ]
  },
  {
   "cell_type": "code",
   "execution_count": 18,
   "metadata": {
    "_cell_guid": "3c46f266-38de-4a7c-9320-143a3d7f01d4",
    "_kg_hide-output": true,
    "_uuid": "1bb8a18067f58ac2ecadc7552fa5e7a170d04e53"
   },
   "outputs": [],
   "source": [
    "lr = LogisticRegression(featuresCol=\"features\", labelCol='toxic', regParam=REG)"
   ]
  },
  {
   "cell_type": "code",
   "execution_count": 19,
   "metadata": {
    "_cell_guid": "dad47cf8-377a-4650-ac58-2e32dbbe0e98",
    "_uuid": "3fb0cfc2d1ec4fe72ef2108e339d9d5706522a3b",
    "scrolled": false
   },
   "outputs": [
    {
     "name": "stdout",
     "output_type": "stream",
     "text": [
      "+----------------+--------------------+-----+------------+-------+------+------+-------------+--------------------+--------------------+--------------------+\n",
      "|              id|        comment_text|toxic|severe_toxic|obscene|threat|insult|identity_hate|               words|         rawFeatures|            features|\n",
      "+----------------+--------------------+-----+------------+-------+------+------+-------------+--------------------+--------------------+--------------------+\n",
      "|0000997932d777bf|Explanation\n",
      "Why t...|    0|           0|      0|     0|     0|            0|[explanation, why...|(262144,[6240,722...|(262144,[6240,722...|\n",
      "|000103f0d9cfb60f|D'aww! He matches...|    0|           0|      0|     0|     0|            0|[d'aww!, he, matc...|(262144,[2195,471...|(262144,[2195,471...|\n",
      "|000113f07ec002fd|Hey man, I'm real...|    0|           0|      0|     0|     0|            0|[hey, man,, i'm, ...|(262144,[18700,27...|(262144,[18700,27...|\n",
      "|0001b41b1c6bb37e|\"\n",
      "More\n",
      "I can't ma...|    0|           0|      0|     0|     0|            0|[\", more, i, can'...|(262144,[11104,16...|(262144,[11104,16...|\n",
      "|0001d958c54c6e35|You, sir, are my ...|    0|           0|      0|     0|     0|            0|[you,, sir,, are,...|(262144,[20853,58...|(262144,[20853,58...|\n",
      "+----------------+--------------------+-----+------------+-------+------+------+-------------+--------------------+--------------------+--------------------+\n",
      "only showing top 5 rows\n",
      "\n"
     ]
    }
   ],
   "source": [
    "tfidf.show(5)"
   ]
  },
  {
   "cell_type": "markdown",
   "metadata": {},
   "source": [
    "Fit the logistic regression model and show the actual and predicted values of 20 data"
   ]
  },
  {
   "cell_type": "code",
   "execution_count": 20,
   "metadata": {
    "_cell_guid": "078372ce-c39c-4df9-91bf-ecd96711992e",
    "_kg_hide-output": true,
    "_uuid": "e4e91288892513025a146ad8383fa10a9a7f0a9a"
   },
   "outputs": [],
   "source": [
    "lrModel = lr.fit(tfidf.limit(5000))"
   ]
  },
  {
   "cell_type": "code",
   "execution_count": 21,
   "metadata": {
    "_cell_guid": "4f2d1427-12da-471d-93d0-30e626e5b7ce",
    "_kg_hide-output": true,
    "_uuid": "19a0fe5536023cd788f947a99f445ea93d4db98c"
   },
   "outputs": [],
   "source": [
    "res_train = lrModel.transform(tfidf)"
   ]
  },
  {
   "cell_type": "code",
   "execution_count": 22,
   "metadata": {
    "_cell_guid": "372ebe40-92bb-4680-b10f-a6711c94898c",
    "_kg_hide-output": true,
    "_uuid": "9dd3a77718fb203eaeca62f40fcb64e6fb5fe72b",
    "scrolled": true
   },
   "outputs": [
    {
     "name": "stdout",
     "output_type": "stream",
     "text": [
      "+----------------+-----+--------------------+----------+\n",
      "|              id|toxic|         probability|prediction|\n",
      "+----------------+-----+--------------------+----------+\n",
      "|0000997932d777bf|    0|[0.98678683901695...|       0.0|\n",
      "|000103f0d9cfb60f|    0|[0.98540708815661...|       0.0|\n",
      "|000113f07ec002fd|    0|[0.95200211834013...|       0.0|\n",
      "|0001b41b1c6bb37e|    0|[0.99387665346745...|       0.0|\n",
      "|0001d958c54c6e35|    0|[0.96614023864236...|       0.0|\n",
      "|00025465d4725e87|    0|[0.95579030992665...|       0.0|\n",
      "|0002bcb3da6cb337|    1|[0.26953126376852...|       1.0|\n",
      "|00031b1e95af7921|    0|[0.96328869796765...|       0.0|\n",
      "|00037261f536c51d|    0|[0.98418771489899...|       0.0|\n",
      "|00040093b2687caa|    0|[0.96511370913371...|       0.0|\n",
      "|0005300084f90edc|    0|[0.99999200637123...|       0.0|\n",
      "|00054a5e18b50dd4|    0|[0.97181127787588...|       0.0|\n",
      "|0005c987bdfc9d4b|    1|[0.04245009766964...|       1.0|\n",
      "|0006f16e4e9f292e|    0|[0.99702547438289...|       0.0|\n",
      "|00070ef96486d6f9|    0|[0.98137147393891...|       0.0|\n",
      "|00078f8ce7eb276d|    0|[0.99490022206287...|       0.0|\n",
      "|0007e25b2121310b|    1|[0.18968317577187...|       1.0|\n",
      "|000897889268bc93|    0|[0.97601909826368...|       0.0|\n",
      "|0009801bd85e5806|    0|[0.97913050090145...|       0.0|\n",
      "|0009eaea3325de8c|    0|[0.98760787308006...|       0.0|\n",
      "+----------------+-----+--------------------+----------+\n",
      "only showing top 20 rows\n",
      "\n"
     ]
    }
   ],
   "source": [
    "res_train.select(\"id\", \"toxic\", \"probability\", \"prediction\").show(20)"
   ]
  },
  {
   "cell_type": "code",
   "execution_count": null,
   "metadata": {},
   "outputs": [],
   "source": [
    "show 5 results"
   ]
  },
  {
   "cell_type": "code",
   "execution_count": 23,
   "metadata": {
    "_cell_guid": "dcf8ea8a-96f2-4f51-9c60-7250ce7f525b",
    "_kg_hide-output": true,
    "_uuid": "e0e0f916ad0f5e3fb8a9817f89d89aa3b10d4499",
    "scrolled": true
   },
   "outputs": [
    {
     "name": "stdout",
     "output_type": "stream",
     "text": [
      "+----------------+--------------------+-----+------------+-------+------+------+-------------+--------------------+--------------------+--------------------+--------------------+--------------------+----------+\n",
      "|              id|        comment_text|toxic|severe_toxic|obscene|threat|insult|identity_hate|               words|         rawFeatures|            features|       rawPrediction|         probability|prediction|\n",
      "+----------------+--------------------+-----+------------+-------+------+------+-------------+--------------------+--------------------+--------------------+--------------------+--------------------+----------+\n",
      "|0000997932d777bf|Explanation\n",
      "Why t...|    0|           0|      0|     0|     0|            0|[explanation, why...|(262144,[6240,722...|(262144,[6240,722...|[4.31324067049035...|[0.98678683901695...|       0.0|\n",
      "|000103f0d9cfb60f|D'aww! He matches...|    0|           0|      0|     0|     0|            0|[d'aww!, he, matc...|(262144,[2195,471...|(262144,[2195,471...|[4.21251892261408...|[0.98540708815661...|       0.0|\n",
      "|000113f07ec002fd|Hey man, I'm real...|    0|           0|      0|     0|     0|            0|[hey, man,, i'm, ...|(262144,[18700,27...|(262144,[18700,27...|[2.98741038208821...|[0.95200211834013...|       0.0|\n",
      "|0001b41b1c6bb37e|\"\n",
      "More\n",
      "I can't ma...|    0|           0|      0|     0|     0|            0|[\", more, i, can'...|(262144,[11104,16...|(262144,[11104,16...|[5.08950434176064...|[0.99387665346745...|       0.0|\n",
      "|0001d958c54c6e35|You, sir, are my ...|    0|           0|      0|     0|     0|            0|[you,, sir,, are,...|(262144,[20853,58...|(262144,[20853,58...|[3.35108166948736...|[0.96614023864236...|       0.0|\n",
      "+----------------+--------------------+-----+------------+-------+------+------+-------------+--------------------+--------------------+--------------------+--------------------+--------------------+----------+\n",
      "only showing top 5 rows\n",
      "\n"
     ]
    }
   ],
   "source": [
    "res_train.show(5)"
   ]
  },
  {
   "cell_type": "markdown",
   "metadata": {
    "_cell_guid": "8850f0eb-4ad4-4446-ae94-ba037ae953ca",
    "_uuid": "b9d9e39487f9f9cb4f9e7dbb1b356282fa9c9874"
   },
   "source": [
    "#### Select the probability column\n",
    "---\n",
    "Create a user-defined function (udf) to select the second element in each row of the column vector"
   ]
  },
  {
   "cell_type": "code",
   "execution_count": 24,
   "metadata": {
    "_cell_guid": "4bce3b7a-d06c-473e-8071-af4e7d193a62",
    "_kg_hide-output": true,
    "_uuid": "b37575b07064a815aa7627274f0c9dd14feb3694"
   },
   "outputs": [],
   "source": [
    "extract_prob = F.udf(lambda x: float(x[1]), T.FloatType())"
   ]
  },
  {
   "cell_type": "markdown",
   "metadata": {},
   "source": [
    "show probability and prediction"
   ]
  },
  {
   "cell_type": "code",
   "execution_count": 25,
   "metadata": {
    "_cell_guid": "54a4db2c-0c71-4b22-b08f-d3649bd6936c",
    "_kg_hide-output": true,
    "_uuid": "e292f81985d490cf103bf48d10051cd27d96cf84"
   },
   "outputs": [
    {
     "name": "stdout",
     "output_type": "stream",
     "text": [
      "+------------+----------+\n",
      "|       proba|prediction|\n",
      "+------------+----------+\n",
      "| 0.013213161|       0.0|\n",
      "| 0.014592912|       0.0|\n",
      "|  0.04799788|       0.0|\n",
      "|0.0061233467|       0.0|\n",
      "|  0.03385976|       0.0|\n",
      "|  0.04420969|       0.0|\n",
      "|  0.73046875|       1.0|\n",
      "|   0.0367113|       0.0|\n",
      "| 0.015812285|       0.0|\n",
      "|  0.03488629|       0.0|\n",
      "| 7.993629E-6|       0.0|\n",
      "| 0.028188722|       0.0|\n",
      "|   0.9575499|       1.0|\n",
      "|0.0029745256|       0.0|\n",
      "| 0.018628526|       0.0|\n",
      "| 0.005099778|       0.0|\n",
      "|   0.8103168|       1.0|\n",
      "| 0.023980903|       0.0|\n",
      "|   0.0208695|       0.0|\n",
      "| 0.012392127|       0.0|\n",
      "+------------+----------+\n",
      "only showing top 20 rows\n",
      "\n"
     ]
    }
   ],
   "source": [
    "(res_train.withColumn(\"proba\", extract_prob(\"probability\"))\n",
    " .select(\"proba\", \"prediction\")\n",
    " .show())"
   ]
  }
 ],
 "metadata": {
  "kernelspec": {
   "display_name": "Python 3 (ipykernel)",
   "language": "python",
   "name": "python3"
  },
  "language_info": {
   "codemirror_mode": {
    "name": "ipython",
    "version": 3
   },
   "file_extension": ".py",
   "mimetype": "text/x-python",
   "name": "python",
   "nbconvert_exporter": "python",
   "pygments_lexer": "ipython3",
   "version": "3.8.12"
  }
 },
 "nbformat": 4,
 "nbformat_minor": 1
}
